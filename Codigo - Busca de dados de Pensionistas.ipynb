{
 "cells": [
  {
   "cell_type": "markdown",
   "metadata": {},
   "source": [
    "Código simples para localizar informações no dataset de pensionistas do governo federal. No momento é necessário saber o número da matrícula do servidor que gerou o benefício ou o nome completo exato com o qual os beneficiários estão cadastrados. "
   ]
  },
  {
   "cell_type": "markdown",
   "metadata": {},
   "source": [
    "Para obter as informações desejadas, entre em https://dados.gov.br/dataset/gestao-de-pessoas-executivo-federal-pensionistas e baixe o arquivo CSV do anos ou meses desejados. Será necessário extrair os arquivos manualmente para a mesma pasta, que deverá ser inserida no código no local indicado"
   ]
  },
  {
   "cell_type": "code",
   "execution_count": null,
   "metadata": {},
   "outputs": [],
   "source": [
    "import pandas as pd\n",
    "\n",
    "#Variáveis a definir para que o código funcione\n",
    "\n",
    "localdosarquivosdeorigem:'C:\\\\Documentos\\\\'#Caminho completo da pasta onde estão salvos os arquivos. Substitua pelo caminho adequado onde tudo está salvo no seu computados.. Lembre que é necessário colocar barras duplas\n",
    "localdoarquivoderesultado: 'C:\\\\Documentos\\\\' #Caminho completo da pasta onde quer salvar o arquivo CSV de resultado\n",
    "coluna_para_pesquisa:'MATRICULA SERVIDOR INSTITUIDOR' #A coluna que servirá para filtrarmos os dados\n",
    "dado_para_pesquisa: 260000260801 #O valor que você quer encontrar na coluna acima. Com base nisso, o código irá criar um banco de dados com as informações de todas as linhas que tiverem esse dado nessa coluna. Nesse momento, o código pesquisa apenas o ítem exato e não pedaços\n",
    "    \n"
   ]
  },
  {
   "cell_type": "code",
   "execution_count": null,
   "metadata": {
    "scrolled": false
   },
   "outputs": [],
   "source": [
    "historico=pd.DataFrame()\n",
    "for ano in range(1994,2020):#Ano de inicio e fim da análise. Lembrando que o ano de fim é ignorado na função (nesse exemplo ele só busca até 2019) Recomendo fazer pesquisas de menos de 5 anos para teste pelo tempo que leva para processar tudo\n",
    "    for mes in range(1,13):#Mesma situação da linha acima. Ao inserir 1 a 13, o código buscará de 1 a 12\n",
    "        \n",
    "        ARQUIVO='PENSIONISTAS_'+str(mes).zfill(2)+str(ano)+'.csv'#Essa linha irá compor o nome de cada arquivo que a função buscará na pasta com base no mês e ano escolhidos acima.\n",
    "        print('processando ',ARQUIVO) #essa linha faz com que o código imprima abaixo da célula o arquivo que está sendo lido/processado no momento\n",
    "        ENDERECO=localdosarquivosdeorigem\n",
    "        pensao=pd.read_csv(ENDERECO+ARQUIVO,sep=';',encoding='latin_1')\n",
    "        pensao['Ano']=ano#Cria uma coluna com o ano do arquivo analisado \n",
    "        pensao['Mes']=mes#cria uma coluna com o mês do arquivo analisado\n",
    "        historico=pd.concat([historico,pensao.loc[pensao[coluna_para_pesquisa]==dado_para_pesquisa]], ignore_index=True)\n",
    "\n",
    "\n",
    "\n"
   ]
  },
  {
   "cell_type": "code",
   "execution_count": null,
   "metadata": {},
   "outputs": [],
   "source": [
    "#Rode para ver o conteúdo da análise de forma resumida\n",
    "\n",
    "historico"
   ]
  },
  {
   "cell_type": "code",
   "execution_count": null,
   "metadata": {},
   "outputs": [],
   "source": [
    "#Se o conteúdo acima deu certo, salve em um CSV. Mude o nome do arquivo abaixo a cada vez para não sobrescrever!\n",
    "\n",
    "historico.to_csv(localdoarquivoderesultado+\"NOMEDOARQUIVO.CSV\",sep=';',encoding='latin_1')"
   ]
  },
  {
   "cell_type": "markdown",
   "metadata": {},
   "source": [
    "Seguem os nomes das colunas para que o parâmetro de busca possa ser modificado:\n",
    "\n",
    "    'NOME DO SERVIDOR INSTITUIDOR'\n",
    "    'CPF SERVIDOR INSTITUIDOR'\n",
    "    'DATA NASCIMENTO INSTITUIDOR'\n",
    "    'DATA FALECIMENTO INSTITUIDOR'\n",
    "    'MATRICULA SERVIDOR INSTITUIDOR'\n",
    "    'NOME DO ORGAO'\n",
    "    'SIGLA DO ORGAO'\n",
    "    'CODIGO ORGAO SUPERIOR'\n",
    "    'CARGO SERVIDOR INSTITUIDOR'\n",
    "    'NIVEL ESCOLARIDADE CARGO'\n",
    "    'CLASSE SERVIDOR INSTITUIDOR'\n",
    "    'PADRAO SERVIDOR INSTITUIDOR'\n",
    "    'REFERENCIA SERVIDOR INSTITUIDOR'\n",
    "    'NIVEL SERVIDOR INSTITUIDOR'\n",
    "    'OCORRENCIA DE INGRESSO NO SERVICO PUBLICO SERVIDOR INSTITUIDOR'\n",
    "    'DATA DE OCORRENCIA DE INGRESSO NO SERVICO PUBLICO SERVIDOR INSTITUIDOR'\n",
    "    'NOME DO BENEFICIARIO'\n",
    "    'CPF DO BENEFICIARIO'\n",
    "    'DATA DE NASCIMENTO'\n",
    "    'UF DA UPAG DE VINCULACAO'\n",
    "    'TIPO DE BENEFICIARIO'\n",
    "    'TIPO PENSAO'\n",
    "    'NATUREZA PENSAO'\n",
    "    'DATA INICIO DO BENEFICIO'\n",
    "    'DATA FIM DO BENEFICIO'\n",
    "    'RENDIMENTO BRUTO'\n",
    "    'RENDIMENTO LIQUIDO'\n",
    "    'PAGAMENTO SUSPENSO'"
   ]
  }
 ],
 "metadata": {
  "kernelspec": {
   "display_name": "Python 3",
   "language": "python",
   "name": "python3"
  },
  "language_info": {
   "codemirror_mode": {
    "name": "ipython",
    "version": 3
   },
   "file_extension": ".py",
   "mimetype": "text/x-python",
   "name": "python",
   "nbconvert_exporter": "python",
   "pygments_lexer": "ipython3",
   "version": "3.7.0"
  }
 },
 "nbformat": 4,
 "nbformat_minor": 2
}
